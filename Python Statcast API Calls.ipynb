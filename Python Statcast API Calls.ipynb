{
 "cells": [
  {
   "cell_type": "markdown",
   "id": "8aab00b0-9b83-4773-bf4a-a3a35c506f92",
   "metadata": {},
   "source": [
    "### Overview\n",
    "This Jupyter notebook can be used to retrieve the pitch data from [pybaseball](https://github.com/jldbc/pybaseball), export it as a csv, and also how to import the csv for future use."
   ]
  },
  {
   "cell_type": "markdown",
   "id": "2022cff1-7666-481b-b0ed-766957e77ec5",
   "metadata": {},
   "source": [
    "#### Retrieveing the data"
   ]
  },
  {
   "cell_type": "code",
   "execution_count": 1,
   "id": "8a014e53-244d-4668-9085-a17d52cb7c23",
   "metadata": {},
   "outputs": [],
   "source": [
    "# Import necessary libraries\n",
    "import pybaseball as pyb\n",
    "from time import time\n",
    "import pandas as pd\n",
    "import numpy as np"
   ]
  },
  {
   "cell_type": "code",
   "execution_count": 2,
   "id": "d1289d1a-7224-4cb0-9726-be95fa94d586",
   "metadata": {},
   "outputs": [],
   "source": [
    "import warnings\n",
    "\n",
    "# Suppress all warnings\n",
    "warnings.filterwarnings(\"ignore\")"
   ]
  },
  {
   "cell_type": "code",
   "execution_count": 3,
   "id": "326dbdb9-8548-439d-a057-c51e9eb8286b",
   "metadata": {},
   "outputs": [
    {
     "name": "stdout",
     "output_type": "stream",
     "text": [
      "This is a large query, it may take a moment to complete\n",
      "Skipping offseason dates\n"
     ]
    },
    {
     "name": "stderr",
     "output_type": "stream",
     "text": [
      "100%|██████████████████████████████████████████████████████████████████████████████████| 17/17 [00:49<00:00,  2.93s/it]\n"
     ]
    },
    {
     "name": "stdout",
     "output_type": "stream",
     "text": [
      "This is a large query, it may take a moment to complete\n"
     ]
    },
    {
     "name": "stderr",
     "output_type": "stream",
     "text": [
      "100%|██████████████████████████████████████████████████████████████████████████████████| 30/30 [01:27<00:00,  2.92s/it]\n"
     ]
    },
    {
     "name": "stdout",
     "output_type": "stream",
     "text": [
      "This is a large query, it may take a moment to complete\n"
     ]
    },
    {
     "name": "stderr",
     "output_type": "stream",
     "text": [
      "100%|██████████████████████████████████████████████████████████████████████████████████| 31/31 [01:31<00:00,  2.95s/it]\n"
     ]
    },
    {
     "name": "stdout",
     "output_type": "stream",
     "text": [
      "This is a large query, it may take a moment to complete\n"
     ]
    },
    {
     "name": "stderr",
     "output_type": "stream",
     "text": [
      "100%|██████████████████████████████████████████████████████████████████████████████████| 30/30 [01:32<00:00,  3.09s/it]\n"
     ]
    },
    {
     "name": "stdout",
     "output_type": "stream",
     "text": [
      "This is a large query, it may take a moment to complete\n"
     ]
    },
    {
     "name": "stderr",
     "output_type": "stream",
     "text": [
      "100%|██████████████████████████████████████████████████████████████████████████████████| 31/31 [01:27<00:00,  2.81s/it]\n"
     ]
    },
    {
     "name": "stdout",
     "output_type": "stream",
     "text": [
      "This is a large query, it may take a moment to complete\n"
     ]
    },
    {
     "name": "stderr",
     "output_type": "stream",
     "text": [
      "100%|██████████████████████████████████████████████████████████████████████████████████| 31/31 [01:38<00:00,  3.17s/it]\n"
     ]
    },
    {
     "name": "stdout",
     "output_type": "stream",
     "text": [
      "This is a large query, it may take a moment to complete\n"
     ]
    },
    {
     "name": "stderr",
     "output_type": "stream",
     "text": [
      "100%|██████████████████████████████████████████████████████████████████████████████████| 30/30 [01:17<00:00,  2.57s/it]\n"
     ]
    }
   ],
   "source": [
    "# This code is for downloading one month at a time to deal with more managable files. \n",
    "# For doing the whole season in one-fell-swoop, see the chunks further below\n",
    "\n",
    "# Number of days in each month\n",
    "d = {3:31, 4:30, 5:31, 6:30, 7:31, 8:31, 9:30}\n",
    "\n",
    "# an array to hold onto each month's dataframe\n",
    "df_months = []\n",
    "\n",
    "for i in range(3,10):\n",
    "    df_month = pyb.statcast(\n",
    "        start_dt='2025-0' + str(i) + '-01',          # start of the month\n",
    "        end_dt='2025-0'+ str(i) + '-' +str(d[i])     # end of the month\n",
    "    )\n",
    "    df_months.append(df_month)                       # append it to our array of months"
   ]
  },
  {
   "cell_type": "markdown",
   "id": "281d795c-07ef-4c3c-953a-75ea675997b9",
   "metadata": {},
   "source": [
    "#### Exporting the data"
   ]
  },
  {
   "cell_type": "code",
   "execution_count": 5,
   "id": "e15d249a-06ea-402c-b2ab-fc1ccc86c802",
   "metadata": {},
   "outputs": [],
   "source": [
    "# Create a dictionary for easy access of month names for our file names\n",
    "month_names = {3:'march', 4:'april', 5:'may', 6:'june', 7:'july', 8:'august', 9:'september'}\n",
    "\n",
    "# export each month\n",
    "for i in range(3,10):\n",
    "    df_months[i-3].to_csv('all_' + month_names[i] + '_2025_pitches.csv', index = True)"
   ]
  },
  {
   "cell_type": "markdown",
   "id": "170ad9b0-a505-4985-9906-df573ce75f9c",
   "metadata": {},
   "source": [
    "#### Importing the data\n",
    "Only run these once you've either ran the above cells, or if you've downloaded and unzipped the file from [our GitHub](https://github.com/Erdos-Projects/fall-2025-sports-analytics)"
   ]
  },
  {
   "cell_type": "code",
   "execution_count": 6,
   "id": "701fccba-fa7e-4988-b7ca-6f65bdd41594",
   "metadata": {},
   "outputs": [],
   "source": [
    "# Number of days in each month\n",
    "d = {3:31, 4:30, 5:31, 6:30, 7:31, 8:31, 9:30}\n",
    "month_names = {3:'march', 4:'april', 5:'may', 6:'june', 7:'july', 8:'august', 9:'september'}\n",
    "\n",
    "# an array to hold onto each month's dataframe\n",
    "df_months = []\n",
    "\n",
    "for i in range(3,10):\n",
    "    df_month = pd.read_csv('all_' + month_names[i] + '_2025_pitches.csv')  \n",
    "    df_months.append(df_month)                       # append it to our array of months"
   ]
  },
  {
   "cell_type": "code",
   "execution_count": 7,
   "id": "b235b8ca-5e62-4381-b24f-ffdf29734f36",
   "metadata": {},
   "outputs": [],
   "source": [
    "df = pd.concat(df_months[::-1], axis=0)"
   ]
  },
  {
   "cell_type": "code",
   "execution_count": 8,
   "id": "d6c87922-ff4c-4dbf-8145-62cf539f503d",
   "metadata": {},
   "outputs": [
    {
     "data": {
      "text/plain": [
       "(754044, 119)"
      ]
     },
     "execution_count": 8,
     "metadata": {},
     "output_type": "execute_result"
    }
   ],
   "source": [
    "df.shape"
   ]
  },
  {
   "cell_type": "code",
   "execution_count": 9,
   "id": "8d6490e1-38c2-4478-81e7-ed5927f2258f",
   "metadata": {},
   "outputs": [
    {
     "data": {
      "text/html": [
       "<div>\n",
       "<style scoped>\n",
       "    .dataframe tbody tr th:only-of-type {\n",
       "        vertical-align: middle;\n",
       "    }\n",
       "\n",
       "    .dataframe tbody tr th {\n",
       "        vertical-align: top;\n",
       "    }\n",
       "\n",
       "    .dataframe thead th {\n",
       "        text-align: right;\n",
       "    }\n",
       "</style>\n",
       "<table border=\"1\" class=\"dataframe\">\n",
       "  <thead>\n",
       "    <tr style=\"text-align: right;\">\n",
       "      <th></th>\n",
       "      <th>Unnamed: 0</th>\n",
       "      <th>pitch_type</th>\n",
       "      <th>game_date</th>\n",
       "      <th>release_speed</th>\n",
       "      <th>release_pos_x</th>\n",
       "      <th>release_pos_z</th>\n",
       "      <th>player_name</th>\n",
       "      <th>batter</th>\n",
       "      <th>pitcher</th>\n",
       "      <th>events</th>\n",
       "      <th>...</th>\n",
       "      <th>batter_days_until_next_game</th>\n",
       "      <th>api_break_z_with_gravity</th>\n",
       "      <th>api_break_x_arm</th>\n",
       "      <th>api_break_x_batter_in</th>\n",
       "      <th>arm_angle</th>\n",
       "      <th>attack_angle</th>\n",
       "      <th>attack_direction</th>\n",
       "      <th>swing_path_tilt</th>\n",
       "      <th>intercept_ball_minus_batter_pos_x_inches</th>\n",
       "      <th>intercept_ball_minus_batter_pos_y_inches</th>\n",
       "    </tr>\n",
       "  </thead>\n",
       "  <tbody>\n",
       "    <tr>\n",
       "      <th>0</th>\n",
       "      <td>1994</td>\n",
       "      <td>FF</td>\n",
       "      <td>2025-09-28</td>\n",
       "      <td>95.7</td>\n",
       "      <td>-2.15</td>\n",
       "      <td>5.21</td>\n",
       "      <td>Weissert, Greg</td>\n",
       "      <td>678009</td>\n",
       "      <td>669711</td>\n",
       "      <td>field_out</td>\n",
       "      <td>...</td>\n",
       "      <td>NaN</td>\n",
       "      <td>1.56</td>\n",
       "      <td>0.71</td>\n",
       "      <td>-0.71</td>\n",
       "      <td>20.9</td>\n",
       "      <td>5.991833</td>\n",
       "      <td>-1.319512</td>\n",
       "      <td>28.782516</td>\n",
       "      <td>41.559201</td>\n",
       "      <td>30.599805</td>\n",
       "    </tr>\n",
       "    <tr>\n",
       "      <th>1</th>\n",
       "      <td>2040</td>\n",
       "      <td>FF</td>\n",
       "      <td>2025-09-28</td>\n",
       "      <td>95.1</td>\n",
       "      <td>-1.91</td>\n",
       "      <td>5.10</td>\n",
       "      <td>Weissert, Greg</td>\n",
       "      <td>668670</td>\n",
       "      <td>669711</td>\n",
       "      <td>strikeout</td>\n",
       "      <td>...</td>\n",
       "      <td>NaN</td>\n",
       "      <td>1.59</td>\n",
       "      <td>0.93</td>\n",
       "      <td>0.93</td>\n",
       "      <td>20.5</td>\n",
       "      <td>NaN</td>\n",
       "      <td>NaN</td>\n",
       "      <td>NaN</td>\n",
       "      <td>NaN</td>\n",
       "      <td>NaN</td>\n",
       "    </tr>\n",
       "    <tr>\n",
       "      <th>2</th>\n",
       "      <td>2165</td>\n",
       "      <td>FF</td>\n",
       "      <td>2025-09-28</td>\n",
       "      <td>95.4</td>\n",
       "      <td>-1.99</td>\n",
       "      <td>5.22</td>\n",
       "      <td>Weissert, Greg</td>\n",
       "      <td>668670</td>\n",
       "      <td>669711</td>\n",
       "      <td>NaN</td>\n",
       "      <td>...</td>\n",
       "      <td>NaN</td>\n",
       "      <td>1.36</td>\n",
       "      <td>0.85</td>\n",
       "      <td>0.85</td>\n",
       "      <td>22.9</td>\n",
       "      <td>2.871131</td>\n",
       "      <td>31.805044</td>\n",
       "      <td>22.266527</td>\n",
       "      <td>37.478847</td>\n",
       "      <td>15.582717</td>\n",
       "    </tr>\n",
       "    <tr>\n",
       "      <th>3</th>\n",
       "      <td>2256</td>\n",
       "      <td>SL</td>\n",
       "      <td>2025-09-28</td>\n",
       "      <td>84.8</td>\n",
       "      <td>-2.33</td>\n",
       "      <td>4.72</td>\n",
       "      <td>Weissert, Greg</td>\n",
       "      <td>668670</td>\n",
       "      <td>669711</td>\n",
       "      <td>NaN</td>\n",
       "      <td>...</td>\n",
       "      <td>NaN</td>\n",
       "      <td>2.55</td>\n",
       "      <td>-0.32</td>\n",
       "      <td>-0.32</td>\n",
       "      <td>12.3</td>\n",
       "      <td>13.785410</td>\n",
       "      <td>4.081390</td>\n",
       "      <td>32.414181</td>\n",
       "      <td>38.011685</td>\n",
       "      <td>27.083341</td>\n",
       "    </tr>\n",
       "    <tr>\n",
       "      <th>4</th>\n",
       "      <td>2352</td>\n",
       "      <td>SL</td>\n",
       "      <td>2025-09-28</td>\n",
       "      <td>85.3</td>\n",
       "      <td>-2.26</td>\n",
       "      <td>4.85</td>\n",
       "      <td>Weissert, Greg</td>\n",
       "      <td>668670</td>\n",
       "      <td>669711</td>\n",
       "      <td>NaN</td>\n",
       "      <td>...</td>\n",
       "      <td>NaN</td>\n",
       "      <td>2.71</td>\n",
       "      <td>-0.52</td>\n",
       "      <td>-0.52</td>\n",
       "      <td>15.8</td>\n",
       "      <td>NaN</td>\n",
       "      <td>NaN</td>\n",
       "      <td>NaN</td>\n",
       "      <td>NaN</td>\n",
       "      <td>NaN</td>\n",
       "    </tr>\n",
       "  </tbody>\n",
       "</table>\n",
       "<p>5 rows × 119 columns</p>\n",
       "</div>"
      ],
      "text/plain": [
       "   Unnamed: 0 pitch_type   game_date  release_speed  release_pos_x  \\\n",
       "0        1994         FF  2025-09-28           95.7          -2.15   \n",
       "1        2040         FF  2025-09-28           95.1          -1.91   \n",
       "2        2165         FF  2025-09-28           95.4          -1.99   \n",
       "3        2256         SL  2025-09-28           84.8          -2.33   \n",
       "4        2352         SL  2025-09-28           85.3          -2.26   \n",
       "\n",
       "   release_pos_z     player_name  batter  pitcher     events  ...  \\\n",
       "0           5.21  Weissert, Greg  678009   669711  field_out  ...   \n",
       "1           5.10  Weissert, Greg  668670   669711  strikeout  ...   \n",
       "2           5.22  Weissert, Greg  668670   669711        NaN  ...   \n",
       "3           4.72  Weissert, Greg  668670   669711        NaN  ...   \n",
       "4           4.85  Weissert, Greg  668670   669711        NaN  ...   \n",
       "\n",
       "  batter_days_until_next_game  api_break_z_with_gravity  api_break_x_arm  \\\n",
       "0                         NaN                      1.56             0.71   \n",
       "1                         NaN                      1.59             0.93   \n",
       "2                         NaN                      1.36             0.85   \n",
       "3                         NaN                      2.55            -0.32   \n",
       "4                         NaN                      2.71            -0.52   \n",
       "\n",
       "   api_break_x_batter_in  arm_angle  attack_angle attack_direction  \\\n",
       "0                  -0.71       20.9      5.991833        -1.319512   \n",
       "1                   0.93       20.5           NaN              NaN   \n",
       "2                   0.85       22.9      2.871131        31.805044   \n",
       "3                  -0.32       12.3     13.785410         4.081390   \n",
       "4                  -0.52       15.8           NaN              NaN   \n",
       "\n",
       "  swing_path_tilt intercept_ball_minus_batter_pos_x_inches  \\\n",
       "0       28.782516                                41.559201   \n",
       "1             NaN                                      NaN   \n",
       "2       22.266527                                37.478847   \n",
       "3       32.414181                                38.011685   \n",
       "4             NaN                                      NaN   \n",
       "\n",
       "  intercept_ball_minus_batter_pos_y_inches  \n",
       "0                                30.599805  \n",
       "1                                      NaN  \n",
       "2                                15.582717  \n",
       "3                                27.083341  \n",
       "4                                      NaN  \n",
       "\n",
       "[5 rows x 119 columns]"
      ]
     },
     "execution_count": 9,
     "metadata": {},
     "output_type": "execute_result"
    }
   ],
   "source": [
    "df.head()"
   ]
  },
  {
   "cell_type": "markdown",
   "id": "57150ae1-e7dd-4713-a5d8-ec4454ae5902",
   "metadata": {},
   "source": [
    "#### A modicum of cleaning\n",
    "How to get rid of spring training games. We can see that when we grabbed March's data, we got some spring training games ('game_type' = 'S'). It's relativly easy to drop those."
   ]
  },
  {
   "cell_type": "code",
   "execution_count": 10,
   "id": "d60dc89e-ef2f-4366-92b2-6541e9943ca2",
   "metadata": {},
   "outputs": [
    {
     "data": {
      "text/plain": [
       "game_type\n",
       "R    710084\n",
       "S     43960\n",
       "Name: count, dtype: int64"
      ]
     },
     "execution_count": 10,
     "metadata": {},
     "output_type": "execute_result"
    }
   ],
   "source": [
    "# Take a look at the breakdown of our pitches\n",
    "df['game_type'].value_counts()"
   ]
  },
  {
   "cell_type": "code",
   "execution_count": 11,
   "id": "1f5f1d82-b1e3-4a0d-a403-4e2788a3e673",
   "metadata": {},
   "outputs": [
    {
     "data": {
      "text/plain": [
       "(754044, 119)"
      ]
     },
     "execution_count": 11,
     "metadata": {},
     "output_type": "execute_result"
    }
   ],
   "source": [
    "df.shape"
   ]
  },
  {
   "cell_type": "code",
   "execution_count": 12,
   "id": "cee0c773-2f0a-4046-b958-975344dc5035",
   "metadata": {},
   "outputs": [],
   "source": [
    "# Only keep those pitches from a regular season game\n",
    "df = df[df['game_type']=='R']"
   ]
  },
  {
   "cell_type": "code",
   "execution_count": 13,
   "id": "d45b5ba1-1dee-4fb4-946b-dc4458c535fa",
   "metadata": {},
   "outputs": [
    {
     "data": {
      "text/plain": [
       "game_type\n",
       "R    710084\n",
       "Name: count, dtype: int64"
      ]
     },
     "execution_count": 13,
     "metadata": {},
     "output_type": "execute_result"
    }
   ],
   "source": [
    "# Check out to see if it worked\n",
    "df['game_type'].value_counts()\n"
   ]
  },
  {
   "cell_type": "code",
   "execution_count": 14,
   "id": "c6b2cbc7-a127-4e0e-a8f9-ee98c383a0b1",
   "metadata": {},
   "outputs": [
    {
     "data": {
      "text/plain": [
       "(710084, 119)"
      ]
     },
     "execution_count": 14,
     "metadata": {},
     "output_type": "execute_result"
    }
   ],
   "source": [
    "df.shape"
   ]
  },
  {
   "cell_type": "markdown",
   "id": "8a0af33c-920a-42a7-8c47-fde1cd353987",
   "metadata": {},
   "source": [
    "#### Bonus section 1: doing it all at once. \n",
    "Takes longer but less local memory"
   ]
  },
  {
   "cell_type": "code",
   "execution_count": null,
   "id": "6e8ed78a",
   "metadata": {},
   "outputs": [],
   "source": [
    "# If you want to download all of it at once, use this cell. It took ~10 minutes on my computer\n",
    "a = time()\n",
    "df = pyb.statcast(start_dt='2025-03-17', end_dt='2025-09-29')\n",
    "print(time() - a)"
   ]
  },
  {
   "cell_type": "markdown",
   "id": "fa5c529f-2a8d-40d8-8bc9-5a9de20b01ee",
   "metadata": {},
   "source": [
    "#### Bonus section 2: Minor cleaning and wrangling\n",
    "We ook at pitches where Juan Soto was at-bat"
   ]
  },
  {
   "cell_type": "code",
   "execution_count": 15,
   "id": "396e3b53",
   "metadata": {},
   "outputs": [],
   "source": [
    "# Check out Juan Soto's stats\n",
    "soto_stats = df[df['batter'] == 665742]"
   ]
  },
  {
   "cell_type": "code",
   "execution_count": 16,
   "id": "7c15c825-0172-47c2-be1e-c1b375d9c7e5",
   "metadata": {},
   "outputs": [
    {
     "data": {
      "text/plain": [
       "43"
      ]
     },
     "execution_count": 16,
     "metadata": {},
     "output_type": "execute_result"
    }
   ],
   "source": [
    "# How many home runs did he hit\n",
    "sum(soto_stats['events'] == 'home_run')"
   ]
  },
  {
   "cell_type": "code",
   "execution_count": 17,
   "id": "5c48587a-a795-4e3d-af14-ced66fe39bd3",
   "metadata": {},
   "outputs": [
    {
     "data": {
      "text/plain": [
       "events\n",
       "field_out                    249\n",
       "strikeout                    136\n",
       "walk                         114\n",
       "single                        88\n",
       "home_run                      43\n",
       "double                        20\n",
       "grounded_into_double_play     17\n",
       "force_out                     10\n",
       "sac_fly                        6\n",
       "field_error                    6\n",
       "hit_by_pitch                   3\n",
       "fielders_choice                3\n",
       "fielders_choice_out            2\n",
       "triple                         1\n",
       "catcher_interf                 1\n",
       "double_play                    1\n",
       "sac_bunt                       1\n",
       "strikeout_double_play          1\n",
       "truncated_pa                   1\n",
       "Name: count, dtype: int64"
      ]
     },
     "execution_count": 17,
     "metadata": {},
     "output_type": "execute_result"
    }
   ],
   "source": [
    "soto_stats['events'].value_counts()"
   ]
  }
 ],
 "metadata": {
  "kernelspec": {
   "display_name": "Python [conda env:base] *",
   "language": "python",
   "name": "conda-base-py"
  },
  "language_info": {
   "codemirror_mode": {
    "name": "ipython",
    "version": 3
   },
   "file_extension": ".py",
   "mimetype": "text/x-python",
   "name": "python",
   "nbconvert_exporter": "python",
   "pygments_lexer": "ipython3",
   "version": "3.13.5"
  }
 },
 "nbformat": 4,
 "nbformat_minor": 5
}
